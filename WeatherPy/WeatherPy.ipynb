{
 "cells": [
  {
   "cell_type": "markdown",
   "metadata": {},
   "source": [
    "# WeatherPy\n",
    "----\n",
    "\n",
    "#### Note\n",
    "* Instructions have been included for each segment. You do not have to follow them exactly, but they are included to help you think through the steps."
   ]
  },
  {
   "cell_type": "code",
   "execution_count": 6,
   "metadata": {
    "scrolled": true
   },
   "outputs": [],
   "source": [
    "import matplotlib.pyplot as plt\n",
    "import requests\n",
    "from scipy import stats\n",
    "import pandas as pd\n",
    "from citipy import citipy\n",
    "import numpy as np\n",
    "import time\n",
    "from api_keys import api_key"
   ]
  },
  {
   "cell_type": "markdown",
   "metadata": {},
   "source": [
    "## Generate Cities List"
   ]
  },
  {
   "cell_type": "code",
   "execution_count": 5,
   "metadata": {},
   "outputs": [
    {
     "data": {
      "text/plain": [
       "536"
      ]
     },
     "execution_count": 5,
     "metadata": {},
     "output_type": "execute_result"
    }
   ],
   "source": [
    "latitudes = np.random.uniform(-90, 90, 1300)\n",
    "longitudes = np.random.uniform(-180, 180, 1300)\n",
    "\n",
    "coordinates = zip(latitudes, longitudes)\n",
    "\n",
    "city_names = []\n",
    "\n",
    "for coordinate in coordinates:\n",
    "    city = citipy.nearest_city(coordinate[0], coordinate[1]).city_name\n",
    "    \n",
    "    if city not in city_names:\n",
    "        city_names.append(city)\n",
    "        \n",
    "len(city_names)"
   ]
  },
  {
   "cell_type": "markdown",
   "metadata": {},
   "source": [
    "### Perform API Calls\n",
    "* Perform a weather check on each city using a series of successive API calls.\n",
    "* Include a print log of each city as it'sbeing processed (with the city number and city name).\n"
   ]
  },
  {
   "cell_type": "code",
   "execution_count": 7,
   "metadata": {
    "scrolled": true
   },
   "outputs": [
    {
     "name": "stdout",
     "output_type": "stream",
     "text": [
      "Beginning Data Retrieval     \n",
      "-----------------------------------\n",
      "Processing Record 2 of Set 1 | seoul\n",
      "Processing Record 3 of Set 1 | nyazepetrovsk\n",
      "City not found. Skipping...\n",
      "Processing Record 4 of Set 1 | tsogni\n",
      "Processing Record 5 of Set 1 | esmeraldas\n",
      "Processing Record 6 of Set 1 | taoudenni\n",
      "Processing Record 7 of Set 1 | port elizabeth\n",
      "Processing Record 8 of Set 1 | torbay\n",
      "Processing Record 9 of Set 1 | chara\n",
      "Processing Record 10 of Set 1 | hermanus\n",
      "Processing Record 11 of Set 1 | kumluca\n",
      "Processing Record 12 of Set 1 | kemijarvi\n",
      "Processing Record 13 of Set 1 | victor harbor\n",
      "Processing Record 14 of Set 1 | nazare da mata\n",
      "Processing Record 15 of Set 1 | mar del plata\n",
      "Processing Record 16 of Set 1 | yellowknife\n",
      "Processing Record 17 of Set 1 | kapaa\n",
      "Processing Record 18 of Set 1 | kikwit\n",
      "Processing Record 19 of Set 1 | atuona\n",
      "Processing Record 20 of Set 1 | siderno\n",
      "Processing Record 21 of Set 1 | hithadhoo\n",
      "Processing Record 22 of Set 1 | butaritari\n",
      "City not found. Skipping...\n",
      "Processing Record 23 of Set 1 | albany\n",
      "Processing Record 24 of Set 1 | esperance\n",
      "Processing Record 25 of Set 1 | hobart\n",
      "Processing Record 26 of Set 1 | lagoa\n",
      "Processing Record 27 of Set 1 | mataura\n",
      "Processing Record 28 of Set 1 | igrim\n",
      "Processing Record 29 of Set 1 | rikitea\n",
      "Processing Record 30 of Set 1 | barrow\n",
      "City not found. Skipping...\n",
      "Processing Record 31 of Set 1 | flagstaff\n",
      "City not found. Skipping...\n",
      "Processing Record 32 of Set 1 | pevek\n",
      "Processing Record 33 of Set 1 | riyadh\n",
      "City not found. Skipping...\n",
      "Processing Record 34 of Set 1 | gao\n",
      "Processing Record 35 of Set 1 | tigil\n",
      "Processing Record 36 of Set 1 | udachnyy\n",
      "Processing Record 37 of Set 1 | port said\n",
      "Processing Record 38 of Set 1 | cooma\n",
      "City not found. Skipping...\n",
      "Processing Record 39 of Set 1 | san andres\n",
      "Processing Record 40 of Set 1 | avarua\n",
      "Processing Record 41 of Set 1 | khandyga\n",
      "Processing Record 42 of Set 1 | castro\n",
      "Processing Record 43 of Set 1 | marawi\n",
      "Processing Record 44 of Set 1 | mahibadhoo\n",
      "Processing Record 45 of Set 1 | busselton\n",
      "Processing Record 46 of Set 1 | chaykovskiy\n",
      "Processing Record 47 of Set 1 | namatanai\n",
      "Processing Record 48 of Set 1 | ribeira grande\n",
      "Processing Record 49 of Set 1 | okhotsk\n",
      "Processing Record 50 of Set 1 | kodiak\n",
      "Processing Record 51 of Set 1 | bluff\n",
      "Processing Record 51 of Set 2 | clyde river\n",
      "Processing Record 51 of Set 3 | sayat\n",
      "Processing Record 51 of Set 4 | tasiilaq\n",
      "Processing Record 51 of Set 5 | punta arenas\n",
      "Processing Record 51 of Set 6 | san patricio\n",
      "Processing Record 51 of Set 7 | vaini\n",
      "Processing Record 51 of Set 8 | jamestown\n",
      "Processing Record 51 of Set 9 | cidreira\n",
      "Processing Record 51 of Set 10 | talnakh\n",
      "Processing Record 51 of Set 11 | derzhavinsk\n",
      "Processing Record 51 of Set 12 | erzin\n",
      "Processing Record 51 of Set 13 | dzilam gonzalez\n",
      "Processing Record 51 of Set 14 | georgetown\n",
      "Processing Record 51 of Set 15 | ushuaia\n",
      "Processing Record 51 of Set 16 | longyearbyen\n",
      "Processing Record 51 of Set 17 | severo-kurilsk\n",
      "City not found. Skipping...\n",
      "Processing Record 51 of Set 18 | gweta\n",
      "Processing Record 51 of Set 19 | brigantine\n",
      "Processing Record 51 of Set 20 | sorland\n",
      "Processing Record 51 of Set 21 | cape town\n",
      "Processing Record 51 of Set 22 | saskylakh\n",
      "Processing Record 51 of Set 23 | lavrentiya\n",
      "Processing Record 51 of Set 24 | touros\n",
      "Processing Record 51 of Set 25 | huarmey\n",
      "Processing Record 51 of Set 26 | katobu\n",
      "Processing Record 51 of Set 27 | sola\n",
      "Processing Record 51 of Set 28 | chumikan\n",
      "Processing Record 51 of Set 29 | areosa\n",
      "Processing Record 51 of Set 30 | maniitsoq\n",
      "Processing Record 51 of Set 31 | bredasdorp\n",
      "Processing Record 51 of Set 32 | ola\n",
      "Processing Record 51 of Set 33 | almaznyy\n",
      "Processing Record 51 of Set 34 | kendari\n",
      "Processing Record 51 of Set 35 | shache\n",
      "Processing Record 51 of Set 36 | tutoia\n",
      "Processing Record 51 of Set 37 | nikolskoye\n",
      "Processing Record 51 of Set 38 | akcakoca\n",
      "Processing Record 51 of Set 39 | muros\n",
      "Processing Record 51 of Set 40 | baruun-urt\n",
      "Processing Record 51 of Set 41 | taltal\n",
      "Processing Record 51 of Set 42 | tuktoyaktuk\n",
      "Processing Record 51 of Set 43 | labuhan\n",
      "Processing Record 51 of Set 44 | cache creek\n",
      "Processing Record 51 of Set 45 | san cristobal\n",
      "Processing Record 51 of Set 46 | skjervoy\n",
      "Processing Record 51 of Set 47 | dudinka\n",
      "Processing Record 51 of Set 48 | saint george\n",
      "Processing Record 51 of Set 49 | jesus carranza\n",
      "Processing Record 51 of Set 50 | airai\n",
      "Processing Record 51 of Set 51 | atar\n",
      "Processing Record 51 of Set 52 | tuatapere\n",
      "Processing Record 51 of Set 53 | dunedin\n",
      "Processing Record 51 of Set 54 | sayyan\n",
      "Processing Record 51 of Set 55 | khatanga\n",
      "Processing Record 51 of Set 56 | evensk\n",
      "Processing Record 51 of Set 57 | santo tomas\n",
      "Processing Record 51 of Set 58 | port alfred\n",
      "Processing Record 51 of Set 59 | bhadrachalam\n",
      "Processing Record 51 of Set 60 | klaksvik\n",
      "Processing Record 51 of Set 61 | qaanaaq\n",
      "Processing Record 51 of Set 62 | hilo\n",
      "Processing Record 51 of Set 63 | kahului\n",
      "Processing Record 51 of Set 64 | uvinza\n",
      "Processing Record 51 of Set 65 | olafsvik\n",
      "City not found. Skipping...\n",
      "Processing Record 51 of Set 66 | codrington\n",
      "City not found. Skipping...\n",
      "Processing Record 51 of Set 67 | mogadishu\n",
      "Processing Record 51 of Set 68 | cayenne\n",
      "Processing Record 51 of Set 69 | sao filipe\n",
      "Processing Record 51 of Set 70 | orumiyeh\n",
      "Processing Record 51 of Set 71 | chuy\n",
      "Processing Record 51 of Set 72 | jalu\n",
      "Processing Record 51 of Set 73 | ugoofaaru\n",
      "Processing Record 51 of Set 74 | gravdal\n",
      "Processing Record 51 of Set 75 | huntsville\n",
      "Processing Record 51 of Set 76 | kavieng\n",
      "Processing Record 51 of Set 77 | bolondron\n",
      "Processing Record 51 of Set 78 | lewistown\n",
      "Processing Record 51 of Set 79 | kaitangata\n",
      "Processing Record 51 of Set 80 | isangel\n",
      "Processing Record 51 of Set 81 | iqaluit\n",
      "Processing Record 51 of Set 82 | zuwarah\n",
      "Processing Record 51 of Set 83 | traverse city\n",
      "City not found. Skipping...\n",
      "Processing Record 51 of Set 84 | mukhtolovo\n",
      "Processing Record 51 of Set 85 | linxia\n",
      "Processing Record 51 of Set 86 | juba\n",
      "Processing Record 51 of Set 87 | thompson\n",
      "Processing Record 51 of Set 88 | carnarvon\n",
      "Processing Record 51 of Set 89 | sambava\n",
      "Processing Record 51 of Set 90 | kupang\n",
      "Processing Record 51 of Set 91 | saldanha\n",
      "Processing Record 51 of Set 92 | puerto ayora\n",
      "Processing Record 51 of Set 93 | husavik\n",
      "Processing Record 51 of Set 94 | bonavista\n",
      "Processing Record 51 of Set 95 | aguimes\n",
      "Processing Record 51 of Set 96 | geraldton\n",
      "Processing Record 51 of Set 97 | saint-philippe\n",
      "Processing Record 51 of Set 98 | constitucion\n",
      "Processing Record 51 of Set 99 | dryden\n",
      "Processing Record 51 of Set 100 | tautira\n",
      "City not found. Skipping...\n",
      "Processing Record 51 of Set 101 | nichinan\n",
      "Processing Record 51 of Set 102 | ambilobe\n",
      "Processing Record 51 of Set 103 | kaeo\n",
      "Processing Record 51 of Set 104 | katsuura\n",
      "Processing Record 51 of Set 105 | homer\n",
      "Processing Record 51 of Set 106 | narasimharajapura\n",
      "Processing Record 51 of Set 107 | fairbanks\n",
      "Processing Record 51 of Set 108 | aripuana\n",
      "Processing Record 51 of Set 109 | bougouni\n",
      "Processing Record 51 of Set 110 | maine-soroa\n",
      "Processing Record 51 of Set 111 | mahebourg\n",
      "Processing Record 51 of Set 112 | feltre\n",
      "Processing Record 51 of Set 113 | bundaberg\n",
      "Processing Record 51 of Set 114 | victoria\n",
      "Processing Record 51 of Set 115 | new norfolk\n",
      "Processing Record 51 of Set 116 | yeppoon\n",
      "Processing Record 51 of Set 117 | itarema\n",
      "City not found. Skipping...\n",
      "Processing Record 51 of Set 118 | nabire\n",
      "Processing Record 51 of Set 119 | vryburg\n",
      "Processing Record 51 of Set 120 | nizhniy kuranakh\n",
      "Processing Record 51 of Set 121 | pisco\n",
      "Processing Record 51 of Set 122 | wanning\n",
      "Processing Record 51 of Set 123 | shrewsbury\n",
      "Processing Record 51 of Set 124 | payson\n",
      "Processing Record 51 of Set 125 | chicama\n",
      "Processing Record 51 of Set 126 | broome\n",
      "Processing Record 51 of Set 127 | east london\n",
      "Processing Record 51 of Set 128 | sitka\n",
      "Processing Record 51 of Set 129 | dikson\n",
      "Processing Record 51 of Set 130 | balkhash\n",
      "Processing Record 51 of Set 131 | lebu\n",
      "Processing Record 51 of Set 132 | port macquarie\n",
      "Processing Record 51 of Set 133 | kruisfontein\n",
      "Processing Record 51 of Set 134 | morro bay\n",
      "Processing Record 51 of Set 135 | lingao\n",
      "City not found. Skipping...\n",
      "Processing Record 51 of Set 136 | alice springs\n"
     ]
    },
    {
     "name": "stdout",
     "output_type": "stream",
     "text": [
      "Processing Record 51 of Set 137 | lethem\n",
      "Processing Record 51 of Set 138 | joensuu\n",
      "Processing Record 51 of Set 139 | ziro\n",
      "Processing Record 51 of Set 140 | benghazi\n",
      "City not found. Skipping...\n",
      "Processing Record 51 of Set 141 | mackay\n",
      "Processing Record 51 of Set 142 | cabo san lucas\n",
      "Processing Record 51 of Set 143 | rock sound\n",
      "Processing Record 51 of Set 144 | adilabad\n",
      "Processing Record 51 of Set 145 | pella\n",
      "Processing Record 51 of Set 146 | dwarka\n",
      "Processing Record 51 of Set 147 | faya\n",
      "Processing Record 51 of Set 148 | wuda\n",
      "Processing Record 51 of Set 149 | mandalgovi\n",
      "Processing Record 51 of Set 150 | hirara\n",
      "Processing Record 51 of Set 151 | luderitz\n",
      "Processing Record 51 of Set 152 | thunder bay\n",
      "Processing Record 51 of Set 153 | socorro\n",
      "Processing Record 51 of Set 154 | poum\n",
      "Processing Record 51 of Set 155 | berlevag\n",
      "Processing Record 51 of Set 156 | flin flon\n",
      "Processing Record 51 of Set 157 | bosaso\n",
      "Processing Record 51 of Set 158 | tchollire\n",
      "Processing Record 51 of Set 159 | valparaiso\n",
      "Processing Record 51 of Set 160 | waipawa\n",
      "Processing Record 51 of Set 161 | praia\n",
      "Processing Record 51 of Set 162 | ancud\n",
      "Processing Record 51 of Set 163 | presidente epitacio\n",
      "Processing Record 51 of Set 164 | te anau\n",
      "City not found. Skipping...\n",
      "Processing Record 51 of Set 165 | alofi\n",
      "Processing Record 51 of Set 166 | sao felix do xingu\n",
      "Processing Record 51 of Set 167 | narsaq\n",
      "Processing Record 51 of Set 168 | beira\n",
      "Processing Record 51 of Set 169 | linguere\n",
      "Processing Record 51 of Set 170 | lompoc\n",
      "Processing Record 51 of Set 171 | komsomolskiy\n",
      "Processing Record 51 of Set 172 | lata\n",
      "Processing Record 51 of Set 173 | upernavik\n",
      "Processing Record 51 of Set 174 | kirksville\n",
      "Processing Record 51 of Set 175 | nome\n",
      "Processing Record 51 of Set 176 | cap malheureux\n",
      "Processing Record 51 of Set 177 | farmington\n",
      "Processing Record 51 of Set 178 | novopokrovka\n",
      "Processing Record 51 of Set 179 | provideniya\n",
      "Processing Record 51 of Set 180 | tiksi\n",
      "Processing Record 51 of Set 181 | jidong\n",
      "Processing Record 51 of Set 182 | san quintin\n",
      "City not found. Skipping...\n",
      "Processing Record 51 of Set 183 | upata\n",
      "Processing Record 51 of Set 184 | aswan\n",
      "Processing Record 51 of Set 185 | ponta do sol\n",
      "Processing Record 51 of Set 186 | kiama\n",
      "Processing Record 51 of Set 187 | gafanha da encarnacao\n",
      "Processing Record 51 of Set 188 | arraial do cabo\n",
      "City not found. Skipping...\n",
      "Processing Record 51 of Set 189 | thaba-tseka\n",
      "Processing Record 51 of Set 190 | tura\n",
      "Processing Record 51 of Set 191 | fortuna\n",
      "Processing Record 51 of Set 192 | high rock\n",
      "Processing Record 51 of Set 193 | kristiinankaupunki\n",
      "Processing Record 51 of Set 194 | bathsheba\n",
      "City not found. Skipping...\n",
      "Processing Record 51 of Set 195 | oistins\n",
      "Processing Record 51 of Set 196 | nosy varika\n",
      "Processing Record 51 of Set 197 | kavaratti\n",
      "Processing Record 51 of Set 198 | frontera\n",
      "Processing Record 51 of Set 199 | siyana\n",
      "Processing Record 51 of Set 200 | pathein\n",
      "Processing Record 51 of Set 201 | dombarovskiy\n",
      "Processing Record 51 of Set 202 | qianan\n",
      "Processing Record 51 of Set 203 | palmer\n",
      "City not found. Skipping...\n",
      "Processing Record 51 of Set 204 | beringovskiy\n",
      "City not found. Skipping...\n",
      "Processing Record 51 of Set 205 | joshimath\n",
      "Processing Record 51 of Set 206 | mobaye\n",
      "Processing Record 51 of Set 207 | waingapu\n",
      "Processing Record 51 of Set 208 | makakilo city\n",
      "Processing Record 51 of Set 209 | sabha\n",
      "Processing Record 51 of Set 210 | biak\n",
      "Processing Record 51 of Set 211 | pointe-noire\n",
      "Processing Record 51 of Set 212 | haines junction\n",
      "Processing Record 51 of Set 213 | gizo\n",
      "Processing Record 51 of Set 214 | esna\n",
      "Processing Record 51 of Set 215 | ahuimanu\n",
      "Processing Record 51 of Set 216 | san angelo\n",
      "Processing Record 51 of Set 217 | prince rupert\n",
      "Processing Record 51 of Set 218 | zaraza\n",
      "Processing Record 51 of Set 219 | dingle\n",
      "City not found. Skipping...\n",
      "Processing Record 51 of Set 220 | baykit\n",
      "Processing Record 51 of Set 221 | mandera\n",
      "City not found. Skipping...\n",
      "Processing Record 51 of Set 222 | korla\n",
      "Processing Record 51 of Set 223 | moscow\n",
      "Processing Record 51 of Set 224 | ahipara\n",
      "Processing Record 51 of Set 225 | norman wells\n",
      "Processing Record 51 of Set 226 | ternate\n",
      "Processing Record 51 of Set 227 | odweyne\n",
      "Processing Record 51 of Set 228 | saint-pierre\n",
      "Processing Record 51 of Set 229 | yairipok\n",
      "Processing Record 51 of Set 230 | charters towers\n",
      "Processing Record 51 of Set 231 | laguna\n",
      "Processing Record 51 of Set 232 | port lincoln\n",
      "City not found. Skipping...\n",
      "Processing Record 51 of Set 233 | luebo\n",
      "Processing Record 51 of Set 234 | santa maria\n",
      "Processing Record 51 of Set 235 | college\n",
      "Processing Record 51 of Set 236 | plettenberg bay\n",
      "Processing Record 51 of Set 237 | santa flavia\n",
      "Processing Record 51 of Set 238 | mount isa\n",
      "Processing Record 51 of Set 239 | frankfort\n",
      "Processing Record 51 of Set 240 | khanewal\n",
      "Processing Record 51 of Set 241 | grande prairie\n",
      "Processing Record 51 of Set 242 | margate\n",
      "Processing Record 51 of Set 243 | tierralta\n",
      "Processing Record 51 of Set 244 | cairns\n",
      "Processing Record 51 of Set 245 | mutare\n",
      "Processing Record 51 of Set 246 | yumen\n",
      "Processing Record 51 of Set 247 | bloemfontein\n",
      "Processing Record 51 of Set 248 | betioky\n",
      "Processing Record 51 of Set 249 | san rafael del sur\n",
      "Processing Record 51 of Set 250 | malindi\n",
      "Processing Record 51 of Set 251 | bethel\n",
      "Processing Record 51 of Set 252 | bintulu\n",
      "Processing Record 51 of Set 253 | kieta\n",
      "Processing Record 51 of Set 254 | paita\n",
      "City not found. Skipping...\n",
      "Processing Record 51 of Set 255 | rio gallegos\n",
      "Processing Record 51 of Set 256 | ixtapa\n",
      "Processing Record 51 of Set 257 | anadyr\n",
      "Processing Record 51 of Set 258 | nanortalik\n",
      "Processing Record 51 of Set 259 | jiuquan\n",
      "Processing Record 51 of Set 260 | san juan\n",
      "Processing Record 51 of Set 261 | asau\n",
      "Processing Record 51 of Set 262 | pangai\n",
      "Processing Record 51 of Set 263 | udimskiy\n",
      "Processing Record 51 of Set 264 | uruzgan\n",
      "Processing Record 51 of Set 265 | benton harbor\n",
      "Processing Record 51 of Set 266 | avera\n",
      "Processing Record 51 of Set 267 | gladstone\n",
      "Processing Record 51 of Set 268 | kingman\n",
      "Processing Record 51 of Set 269 | mount gambier\n",
      "Processing Record 51 of Set 270 | macamic\n",
      "Processing Record 51 of Set 271 | loa janan\n",
      "Processing Record 51 of Set 272 | dumas\n",
      "Processing Record 51 of Set 273 | zemio\n",
      "Processing Record 51 of Set 274 | molochnoye\n",
      "Processing Record 51 of Set 275 | yerofey pavlovich\n",
      "Processing Record 51 of Set 276 | pacific grove\n",
      "Processing Record 51 of Set 277 | conde\n",
      "Processing Record 51 of Set 278 | kota kinabalu\n",
      "Processing Record 51 of Set 279 | kangaatsiaq\n",
      "Processing Record 51 of Set 280 | lebrija\n",
      "Processing Record 51 of Set 281 | nelidovo\n",
      "Processing Record 51 of Set 282 | mananara\n",
      "Processing Record 51 of Set 283 | iquitos\n",
      "Processing Record 51 of Set 284 | esmeralda\n",
      "Processing Record 51 of Set 285 | bulgan\n",
      "Processing Record 51 of Set 286 | kondopoga\n",
      "Processing Record 51 of Set 287 | namibe\n",
      "Processing Record 51 of Set 288 | luanda\n",
      "Processing Record 51 of Set 289 | viedma\n",
      "Processing Record 51 of Set 290 | chokurdakh\n",
      "Processing Record 51 of Set 291 | general roca\n",
      "Processing Record 51 of Set 292 | camacha\n",
      "Processing Record 51 of Set 293 | pascagoula\n",
      "Processing Record 51 of Set 294 | cedral\n",
      "Processing Record 51 of Set 295 | mapastepec\n",
      "Processing Record 51 of Set 296 | barinas\n",
      "Processing Record 51 of Set 297 | bubaque\n",
      "Processing Record 51 of Set 298 | nikko\n",
      "Processing Record 51 of Set 299 | pangnirtung\n",
      "Processing Record 51 of Set 300 | gaziantep\n",
      "Processing Record 51 of Set 301 | deputatskiy\n",
      "Processing Record 51 of Set 302 | caborca\n",
      "Processing Record 51 of Set 303 | lanzhou\n",
      "Processing Record 51 of Set 304 | sibu\n",
      "City not found. Skipping...\n",
      "Processing Record 51 of Set 305 | sao geraldo do araguaia\n",
      "Processing Record 51 of Set 306 | la rinconada\n",
      "Processing Record 51 of Set 307 | souillac\n",
      "Processing Record 51 of Set 308 | harstad\n",
      "Processing Record 51 of Set 309 | ponta delgada\n",
      "City not found. Skipping...\n",
      "Processing Record 51 of Set 310 | evanston\n",
      "Processing Record 51 of Set 311 | qufu\n",
      "Processing Record 51 of Set 312 | lasa\n",
      "Processing Record 51 of Set 313 | byron bay\n",
      "Processing Record 51 of Set 314 | weligama\n",
      "Processing Record 51 of Set 315 | smithers\n",
      "Processing Record 51 of Set 316 | jiancheng\n",
      "Processing Record 51 of Set 317 | douentza\n"
     ]
    },
    {
     "name": "stdout",
     "output_type": "stream",
     "text": [
      "Processing Record 51 of Set 318 | tabas\n",
      "Processing Record 51 of Set 319 | mokhsogollokh\n",
      "Processing Record 51 of Set 320 | quatre cocos\n",
      "Processing Record 51 of Set 321 | batemans bay\n",
      "Processing Record 51 of Set 322 | brae\n",
      "Processing Record 51 of Set 323 | jinchang\n",
      "Processing Record 51 of Set 324 | lazaro cardenas\n",
      "Processing Record 51 of Set 325 | juneau\n",
      "Processing Record 51 of Set 326 | nemuro\n",
      "Processing Record 51 of Set 327 | bambanglipuro\n",
      "Processing Record 51 of Set 328 | saint-ambroise\n",
      "Processing Record 51 of Set 329 | el alto\n",
      "Processing Record 51 of Set 330 | borogontsy\n",
      "Processing Record 51 of Set 331 | rochester\n",
      "Processing Record 51 of Set 332 | kiunga\n",
      "City not found. Skipping...\n",
      "Processing Record 51 of Set 333 | narragansett\n",
      "Processing Record 51 of Set 334 | salalah\n",
      "Processing Record 51 of Set 335 | borodino\n",
      "Processing Record 51 of Set 336 | aligudarz\n",
      "Processing Record 51 of Set 337 | constantine\n",
      "Processing Record 51 of Set 338 | tiznit\n",
      "Processing Record 51 of Set 339 | ailigandi\n",
      "Processing Record 51 of Set 340 | pirgos\n",
      "Processing Record 51 of Set 341 | tashtagol\n",
      "Processing Record 51 of Set 342 | yining\n",
      "City not found. Skipping...\n",
      "Processing Record 51 of Set 343 | emerald\n",
      "Processing Record 51 of Set 344 | chunoyar\n",
      "Processing Record 51 of Set 345 | saint-augustin\n",
      "Processing Record 51 of Set 346 | antalya\n",
      "City not found. Skipping...\n",
      "Processing Record 51 of Set 347 | vila franca do campo\n",
      "City not found. Skipping...\n",
      "Processing Record 51 of Set 348 | puerto narino\n",
      "Processing Record 51 of Set 349 | chekhov\n",
      "Processing Record 51 of Set 350 | inuvik\n",
      "Processing Record 51 of Set 351 | straumen\n",
      "Processing Record 51 of Set 352 | arman\n",
      "Processing Record 51 of Set 353 | sept-iles\n",
      "Processing Record 51 of Set 354 | bure\n",
      "Processing Record 51 of Set 355 | teya\n",
      "Processing Record 51 of Set 356 | cockburn town\n",
      "Processing Record 51 of Set 357 | zhigansk\n",
      "Processing Record 51 of Set 358 | coahuayana\n",
      "Processing Record 51 of Set 359 | singaparna\n",
      "Processing Record 51 of Set 360 | front royal\n",
      "Processing Record 51 of Set 361 | port hedland\n",
      "Processing Record 51 of Set 362 | uige\n",
      "Processing Record 51 of Set 363 | verkhoyansk\n",
      "Processing Record 51 of Set 364 | wilmington\n",
      "Processing Record 51 of Set 365 | kadrina\n",
      "Processing Record 51 of Set 366 | ostrovnoy\n",
      "Processing Record 51 of Set 367 | vysokogornyy\n",
      "Processing Record 51 of Set 368 | grand-santi\n",
      "Processing Record 51 of Set 369 | carmo do paranaiba\n",
      "Processing Record 51 of Set 370 | iralaya\n",
      "Processing Record 51 of Set 371 | taiyuan\n",
      "Processing Record 51 of Set 372 | preobrazheniye\n",
      "City not found. Skipping...\n",
      "Processing Record 51 of Set 373 | chunskiy\n",
      "Processing Record 51 of Set 374 | yacuiba\n",
      "Processing Record 51 of Set 375 | marienburg\n",
      "Processing Record 51 of Set 376 | emba\n",
      "Processing Record 51 of Set 377 | leh\n",
      "Processing Record 51 of Set 378 | pafos\n",
      "Processing Record 51 of Set 379 | manicore\n",
      "Processing Record 51 of Set 380 | praia da vitoria\n",
      "Processing Record 51 of Set 381 | savinka\n",
      "City not found. Skipping...\n",
      "Processing Record 51 of Set 382 | ampanihy\n",
      "Processing Record 51 of Set 383 | nishihara\n",
      "Processing Record 51 of Set 384 | lodja\n",
      "Processing Record 51 of Set 385 | angoram\n",
      "Processing Record 51 of Set 386 | goderich\n",
      "Processing Record 51 of Set 387 | nouadhibou\n",
      "Processing Record 51 of Set 388 | vilhena\n",
      "Processing Record 51 of Set 389 | mendoza\n",
      "Processing Record 51 of Set 390 | cherskiy\n",
      "Processing Record 51 of Set 391 | panguna\n",
      "Processing Record 51 of Set 392 | san borja\n",
      "Processing Record 51 of Set 393 | awbari\n",
      "Processing Record 51 of Set 394 | najran\n",
      "Processing Record 51 of Set 395 | northam\n",
      "Processing Record 51 of Set 396 | eirunepe\n",
      "Processing Record 51 of Set 397 | quelimane\n",
      "Processing Record 51 of Set 398 | antofagasta\n",
      "Processing Record 51 of Set 399 | visby\n",
      "Processing Record 51 of Set 400 | zilair\n",
      "Processing Record 51 of Set 401 | itaqui\n",
      "Processing Record 51 of Set 402 | wonthaggi\n",
      "Processing Record 51 of Set 403 | vinkovci\n",
      "Processing Record 51 of Set 404 | vung tau\n",
      "Processing Record 51 of Set 405 | leningradskiy\n",
      "Processing Record 51 of Set 406 | roald\n",
      "Processing Record 51 of Set 407 | jahazpur\n",
      "City not found. Skipping...\n",
      "Processing Record 51 of Set 408 | kutum\n",
      "Processing Record 51 of Set 409 | tariba\n",
      "Processing Record 51 of Set 410 | hasaki\n",
      "Processing Record 51 of Set 411 | ca mau\n",
      "City not found. Skipping...\n",
      "Processing Record 51 of Set 412 | trebinje\n",
      "Processing Record 51 of Set 413 | maues\n",
      "Processing Record 51 of Set 414 | buribay\n",
      "Processing Record 51 of Set 415 | price\n",
      "Processing Record 51 of Set 416 | puerto escondido\n",
      "Processing Record 51 of Set 417 | alyangula\n",
      "Processing Record 51 of Set 418 | oromocto\n",
      "Processing Record 51 of Set 419 | siavonga\n",
      "Processing Record 51 of Set 420 | sinnamary\n",
      "City not found. Skipping...\n",
      "Processing Record 51 of Set 421 | jasper\n",
      "Processing Record 51 of Set 422 | tingi\n",
      "Processing Record 51 of Set 423 | bambous virieux\n",
      "Processing Record 51 of Set 424 | matagami\n",
      "Processing Record 51 of Set 425 | tashla\n",
      "Processing Record 51 of Set 426 | folldal\n",
      "Processing Record 51 of Set 427 | rincon\n",
      "Processing Record 51 of Set 428 | ilo\n",
      "Processing Record 51 of Set 429 | lagos\n",
      "Processing Record 51 of Set 430 | amritsar\n",
      "Processing Record 51 of Set 431 | miri\n",
      "Processing Record 51 of Set 432 | along\n",
      "Processing Record 51 of Set 433 | vestmanna\n",
      "Processing Record 51 of Set 434 | honiara\n",
      "Processing Record 51 of Set 435 | kirakira\n",
      "Processing Record 51 of Set 436 | caravelas\n",
      "Processing Record 51 of Set 437 | vanavara\n",
      "Processing Record 51 of Set 438 | tual\n",
      "Processing Record 51 of Set 439 | eunice\n",
      "Processing Record 51 of Set 440 | port hardy\n",
      "Processing Record 51 of Set 441 | rohnert park\n",
      "Processing Record 51 of Set 442 | sebeta\n",
      "Processing Record 51 of Set 443 | shizunai\n",
      "Processing Record 51 of Set 444 | sao joao da barra\n",
      "Processing Record 51 of Set 445 | bengkulu\n",
      "Processing Record 51 of Set 446 | takoradi\n",
      "City not found. Skipping...\n",
      "Processing Record 51 of Set 447 | zhangjiakou\n",
      "Processing Record 51 of Set 448 | belaya gora\n",
      "Processing Record 51 of Set 449 | formosa do rio preto\n",
      "Processing Record 51 of Set 450 | severodvinsk\n",
      "Processing Record 51 of Set 451 | coquimbo\n",
      "Processing Record 51 of Set 452 | hervey bay\n",
      "Processing Record 51 of Set 453 | ofaqim\n",
      "Processing Record 51 of Set 454 | umarkot\n",
      "Processing Record 51 of Set 455 | axim\n",
      "Processing Record 51 of Set 456 | aksu\n",
      "Processing Record 51 of Set 457 | gat\n",
      "Processing Record 51 of Set 458 | rosarito\n",
      "Processing Record 51 of Set 459 | worland\n",
      "City not found. Skipping...\n",
      "Processing Record 51 of Set 460 | half moon bay\n",
      "Processing Record 51 of Set 461 | portobelo\n",
      "City not found. Skipping...\n",
      "Processing Record 51 of Set 462 | riohacha\n",
      "Processing Record 51 of Set 463 | qandala\n",
      "Processing Record 51 of Set 464 | moron\n",
      "Processing Record 51 of Set 465 | barcelos\n",
      "Processing Record 51 of Set 466 | virginia beach\n",
      "Processing Record 51 of Set 467 | wattegama\n",
      "Processing Record 51 of Set 468 | pentecoste\n",
      "City not found. Skipping...\n",
      "Processing Record 51 of Set 469 | minna\n",
      "Processing Record 51 of Set 470 | kununurra\n",
      "Processing Record 51 of Set 471 | port hawkesbury\n",
      "Processing Record 51 of Set 472 | guatire\n",
      "Processing Record 51 of Set 473 | porto novo\n",
      "Processing Record 51 of Set 474 | berea\n",
      "Processing Record 51 of Set 475 | marsa matruh\n",
      "Processing Record 51 of Set 476 | benjamin aceval\n",
      "Processing Record 51 of Set 477 | plateros\n",
      "City not found. Skipping...\n",
      "Processing Record 51 of Set 478 | cururupu\n",
      "Processing Record 51 of Set 479 | phan thiet\n",
      "Processing Record 51 of Set 480 | novyy starodub\n",
      "Processing Record 51 of Set 481 | aykhal\n",
      "Processing Record 51 of Set 482 | memmingen\n",
      "Processing Record 51 of Set 483 | camargo\n",
      "Processing Record 51 of Set 484 | mitsamiouli\n",
      "Processing Record 51 of Set 485 | bella union\n",
      "Processing Record 51 of Set 486 | bumba\n",
      "Processing Record 51 of Set 487 | necochea\n",
      "Processing Record 51 of Set 488 | uinskoye\n",
      "Processing Record 51 of Set 489 | chapleau\n",
      "-----------------------------------\n",
      "Data Retrieval Complete      \n",
      "-----------------------------------\n"
     ]
    }
   ],
   "source": [
    "\n",
    "base_url = \"http://api.openweathermap.org/data/2.5/weather?\"\n",
    "units = \"imperial\"\n",
    "query_url = f\"{base_url}appid={api_key}&units={units}&q=\"\n",
    "\n",
    "city_info = []\n",
    "lat = []\n",
    "lon = []\n",
    "mx_tmp = []\n",
    "humid = []\n",
    "cloud = []\n",
    "wind = []\n",
    "country = []\n",
    "date = []\n",
    "\n",
    "print(\"Beginning Data Retrieval     \")\n",
    "print(\"-----------------------------------\")\n",
    "\n",
    "count = 1\n",
    "set_1 = 1\n",
    "\n",
    "\n",
    "for city in city_names:\n",
    "    response = requests.get(query_url + city).json()\n",
    "    try:\n",
    "        lat.append(response[\"coord\"][\"lat\"])\n",
    "        lon.append(response[\"coord\"][\"lon\"])\n",
    "        mx_tmp.append(response[\"main\"][\"temp_max\"])\n",
    "        humid.append(response[\"main\"][\"humidity\"])\n",
    "        cloud.append(response[\"clouds\"][\"all\"])\n",
    "        wind.append(response[\"wind\"][\"speed\"])\n",
    "        country.append(response[\"sys\"][\"country\"])\n",
    "        date.append(response[\"dt\"])\n",
    "        \n",
    "        if count > 50:\n",
    "            set_1 += 1\n",
    "            city_info.append(city)\n",
    "        else:\n",
    "            count += 1\n",
    "            city_info.append(city)\n",
    "        print(f\"Processing Record {count} of Set {set_1} | {city}\")\n",
    "    except Exception:\n",
    "        print(\"City not found. Skipping...\")\n",
    "    \n",
    "print(\"-----------------------------------\")\n",
    "print(\"Data Retrieval Complete      \")\n",
    "print(\"-----------------------------------\")                \n",
    "        "
   ]
  },
  {
   "cell_type": "code",
   "execution_count": 8,
   "metadata": {},
   "outputs": [
    {
     "data": {
      "text/plain": [
       "538"
      ]
     },
     "execution_count": 8,
     "metadata": {},
     "output_type": "execute_result"
    }
   ],
   "source": [
    "len(city_info)"
   ]
  },
  {
   "cell_type": "markdown",
   "metadata": {},
   "source": [
    "### Convert Raw Data to DataFrame\n",
    "* Export the city data into a .csv.\n",
    "* Display the DataFrame"
   ]
  },
  {
   "cell_type": "code",
   "execution_count": 11,
   "metadata": {},
   "outputs": [
    {
     "data": {
      "text/html": [
       "<div>\n",
       "<style scoped>\n",
       "    .dataframe tbody tr th:only-of-type {\n",
       "        vertical-align: middle;\n",
       "    }\n",
       "\n",
       "    .dataframe tbody tr th {\n",
       "        vertical-align: top;\n",
       "    }\n",
       "\n",
       "    .dataframe thead th {\n",
       "        text-align: right;\n",
       "    }\n",
       "</style>\n",
       "<table border=\"1\" class=\"dataframe\">\n",
       "  <thead>\n",
       "    <tr style=\"text-align: right;\">\n",
       "      <th></th>\n",
       "      <th>City</th>\n",
       "      <th>Lat</th>\n",
       "      <th>Lng</th>\n",
       "      <th>Max_Temp</th>\n",
       "      <th>Humidity</th>\n",
       "      <th>Cloudiness</th>\n",
       "      <th>Wind_Speed</th>\n",
       "      <th>Country</th>\n",
       "      <th>Date</th>\n",
       "    </tr>\n",
       "  </thead>\n",
       "  <tbody>\n",
       "    <tr>\n",
       "      <th>0</th>\n",
       "      <td>seoul</td>\n",
       "      <td>37.5683</td>\n",
       "      <td>126.9778</td>\n",
       "      <td>81.84</td>\n",
       "      <td>57</td>\n",
       "      <td>29</td>\n",
       "      <td>1.45</td>\n",
       "      <td>KR</td>\n",
       "      <td>1627135960</td>\n",
       "    </tr>\n",
       "    <tr>\n",
       "      <th>1</th>\n",
       "      <td>nyazepetrovsk</td>\n",
       "      <td>56.0531</td>\n",
       "      <td>59.6028</td>\n",
       "      <td>66.74</td>\n",
       "      <td>65</td>\n",
       "      <td>99</td>\n",
       "      <td>2.30</td>\n",
       "      <td>RU</td>\n",
       "      <td>1627136044</td>\n",
       "    </tr>\n",
       "    <tr>\n",
       "      <th>2</th>\n",
       "      <td>tsogni</td>\n",
       "      <td>-2.7942</td>\n",
       "      <td>10.0988</td>\n",
       "      <td>76.77</td>\n",
       "      <td>64</td>\n",
       "      <td>24</td>\n",
       "      <td>10.42</td>\n",
       "      <td>GA</td>\n",
       "      <td>1627136045</td>\n",
       "    </tr>\n",
       "    <tr>\n",
       "      <th>3</th>\n",
       "      <td>esmeraldas</td>\n",
       "      <td>-19.7625</td>\n",
       "      <td>-44.3139</td>\n",
       "      <td>68.86</td>\n",
       "      <td>41</td>\n",
       "      <td>0</td>\n",
       "      <td>8.46</td>\n",
       "      <td>BR</td>\n",
       "      <td>1627136045</td>\n",
       "    </tr>\n",
       "    <tr>\n",
       "      <th>4</th>\n",
       "      <td>taoudenni</td>\n",
       "      <td>22.6783</td>\n",
       "      <td>-3.9836</td>\n",
       "      <td>113.14</td>\n",
       "      <td>6</td>\n",
       "      <td>7</td>\n",
       "      <td>10.29</td>\n",
       "      <td>ML</td>\n",
       "      <td>1627136045</td>\n",
       "    </tr>\n",
       "  </tbody>\n",
       "</table>\n",
       "</div>"
      ],
      "text/plain": [
       "            City      Lat       Lng  Max_Temp  Humidity  Cloudiness  \\\n",
       "0          seoul  37.5683  126.9778     81.84        57          29   \n",
       "1  nyazepetrovsk  56.0531   59.6028     66.74        65          99   \n",
       "2         tsogni  -2.7942   10.0988     76.77        64          24   \n",
       "3     esmeraldas -19.7625  -44.3139     68.86        41           0   \n",
       "4      taoudenni  22.6783   -3.9836    113.14         6           7   \n",
       "\n",
       "   Wind_Speed Country        Date  \n",
       "0        1.45      KR  1627135960  \n",
       "1        2.30      RU  1627136044  \n",
       "2       10.42      GA  1627136045  \n",
       "3        8.46      BR  1627136045  \n",
       "4       10.29      ML  1627136045  "
      ]
     },
     "execution_count": 11,
     "metadata": {},
     "output_type": "execute_result"
    }
   ],
   "source": [
    "weather_dict = {\n",
    "    \"City\": city_info,\n",
    "    \"Lat\": lat,\n",
    "    \"Lng\": lon,\n",
    "    \"Max_Temp\": mx_tmp,\n",
    "    \"Humidity\": humid,\n",
    "    \"Cloudiness\": cloud,\n",
    "    \"Wind_Speed\": wind,\n",
    "    \"Country\": country,\n",
    "    \"Date\": date\n",
    "}\n",
    "weather_data = pd.DataFrame(weather_dict)\n",
    "\n",
    "csv_file = \"WeatherPy_data.csv\"\n",
    "weather_data.to_csv(csv_file)\n",
    "\n",
    "weather_data.head()"
   ]
  },
  {
   "cell_type": "code",
   "execution_count": 12,
   "metadata": {},
   "outputs": [
    {
     "data": {
      "text/html": [
       "<div>\n",
       "<style scoped>\n",
       "    .dataframe tbody tr th:only-of-type {\n",
       "        vertical-align: middle;\n",
       "    }\n",
       "\n",
       "    .dataframe tbody tr th {\n",
       "        vertical-align: top;\n",
       "    }\n",
       "\n",
       "    .dataframe thead th {\n",
       "        text-align: right;\n",
       "    }\n",
       "</style>\n",
       "<table border=\"1\" class=\"dataframe\">\n",
       "  <thead>\n",
       "    <tr style=\"text-align: right;\">\n",
       "      <th></th>\n",
       "      <th>Lat</th>\n",
       "      <th>Lng</th>\n",
       "      <th>Max_Temp</th>\n",
       "      <th>Humidity</th>\n",
       "      <th>Cloudiness</th>\n",
       "      <th>Wind_Speed</th>\n",
       "      <th>Date</th>\n",
       "    </tr>\n",
       "  </thead>\n",
       "  <tbody>\n",
       "    <tr>\n",
       "      <th>count</th>\n",
       "      <td>538.000000</td>\n",
       "      <td>538.000000</td>\n",
       "      <td>538.000000</td>\n",
       "      <td>538.000000</td>\n",
       "      <td>538.000000</td>\n",
       "      <td>538.000000</td>\n",
       "      <td>5.380000e+02</td>\n",
       "    </tr>\n",
       "    <tr>\n",
       "      <th>mean</th>\n",
       "      <td>19.624004</td>\n",
       "      <td>15.506798</td>\n",
       "      <td>71.492900</td>\n",
       "      <td>66.583643</td>\n",
       "      <td>54.624535</td>\n",
       "      <td>7.986784</td>\n",
       "      <td>1.627136e+09</td>\n",
       "    </tr>\n",
       "    <tr>\n",
       "      <th>std</th>\n",
       "      <td>33.047292</td>\n",
       "      <td>91.813965</td>\n",
       "      <td>14.807776</td>\n",
       "      <td>22.494723</td>\n",
       "      <td>40.081531</td>\n",
       "      <td>5.632277</td>\n",
       "      <td>7.752476e+01</td>\n",
       "    </tr>\n",
       "    <tr>\n",
       "      <th>min</th>\n",
       "      <td>-54.800000</td>\n",
       "      <td>-175.200000</td>\n",
       "      <td>35.130000</td>\n",
       "      <td>6.000000</td>\n",
       "      <td>0.000000</td>\n",
       "      <td>0.000000</td>\n",
       "      <td>1.627136e+09</td>\n",
       "    </tr>\n",
       "    <tr>\n",
       "      <th>25%</th>\n",
       "      <td>-6.828375</td>\n",
       "      <td>-68.530925</td>\n",
       "      <td>61.372500</td>\n",
       "      <td>53.000000</td>\n",
       "      <td>9.250000</td>\n",
       "      <td>3.605000</td>\n",
       "      <td>1.627136e+09</td>\n",
       "    </tr>\n",
       "    <tr>\n",
       "      <th>50%</th>\n",
       "      <td>24.677200</td>\n",
       "      <td>21.396350</td>\n",
       "      <td>74.110000</td>\n",
       "      <td>70.000000</td>\n",
       "      <td>65.000000</td>\n",
       "      <td>6.910000</td>\n",
       "      <td>1.627136e+09</td>\n",
       "    </tr>\n",
       "    <tr>\n",
       "      <th>75%</th>\n",
       "      <td>46.330850</td>\n",
       "      <td>98.218475</td>\n",
       "      <td>81.875000</td>\n",
       "      <td>84.000000</td>\n",
       "      <td>95.000000</td>\n",
       "      <td>11.010000</td>\n",
       "      <td>1.627136e+09</td>\n",
       "    </tr>\n",
       "    <tr>\n",
       "      <th>max</th>\n",
       "      <td>78.218600</td>\n",
       "      <td>179.316700</td>\n",
       "      <td>113.140000</td>\n",
       "      <td>100.000000</td>\n",
       "      <td>100.000000</td>\n",
       "      <td>31.070000</td>\n",
       "      <td>1.627136e+09</td>\n",
       "    </tr>\n",
       "  </tbody>\n",
       "</table>\n",
       "</div>"
      ],
      "text/plain": [
       "              Lat         Lng    Max_Temp    Humidity  Cloudiness  Wind_Speed  \\\n",
       "count  538.000000  538.000000  538.000000  538.000000  538.000000  538.000000   \n",
       "mean    19.624004   15.506798   71.492900   66.583643   54.624535    7.986784   \n",
       "std     33.047292   91.813965   14.807776   22.494723   40.081531    5.632277   \n",
       "min    -54.800000 -175.200000   35.130000    6.000000    0.000000    0.000000   \n",
       "25%     -6.828375  -68.530925   61.372500   53.000000    9.250000    3.605000   \n",
       "50%     24.677200   21.396350   74.110000   70.000000   65.000000    6.910000   \n",
       "75%     46.330850   98.218475   81.875000   84.000000   95.000000   11.010000   \n",
       "max     78.218600  179.316700  113.140000  100.000000  100.000000   31.070000   \n",
       "\n",
       "               Date  \n",
       "count  5.380000e+02  \n",
       "mean   1.627136e+09  \n",
       "std    7.752476e+01  \n",
       "min    1.627136e+09  \n",
       "25%    1.627136e+09  \n",
       "50%    1.627136e+09  \n",
       "75%    1.627136e+09  \n",
       "max    1.627136e+09  "
      ]
     },
     "execution_count": 12,
     "metadata": {},
     "output_type": "execute_result"
    }
   ],
   "source": [
    "weather_data.describe()"
   ]
  },
  {
   "cell_type": "markdown",
   "metadata": {},
   "source": [
    "## Inspect the data and remove the cities where the humidity > 100%.\n",
    "----\n",
    "Skip this step if there are no cities that have humidity > 100%. "
   ]
  },
  {
   "cell_type": "code",
   "execution_count": 7,
   "metadata": {},
   "outputs": [
    {
     "ename": "NameError",
     "evalue": "name 'weather_data' is not defined",
     "output_type": "error",
     "traceback": [
      "\u001b[0;31m---------------------------------------------------------------------------\u001b[0m",
      "\u001b[0;31mNameError\u001b[0m                                 Traceback (most recent call last)",
      "\u001b[0;32m<ipython-input-7-364c5b8cc146>\u001b[0m in \u001b[0;36m<module>\u001b[0;34m\u001b[0m\n\u001b[0;32m----> 1\u001b[0;31m \u001b[0mhumidity_100\u001b[0m \u001b[0;34m=\u001b[0m \u001b[0mweather_data\u001b[0m\u001b[0;34m.\u001b[0m\u001b[0mloc\u001b[0m\u001b[0;34m[\u001b[0m\u001b[0mweather_data\u001b[0m\u001b[0;34m[\u001b[0m\u001b[0;34m\"Humidity\"\u001b[0m\u001b[0;34m]\u001b[0m \u001b[0;34m>\u001b[0m \u001b[0;36m100\u001b[0m\u001b[0;34m]\u001b[0m\u001b[0;34m\u001b[0m\u001b[0;34m\u001b[0m\u001b[0m\n\u001b[0m\u001b[1;32m      2\u001b[0m \u001b[0mhumidity_100\u001b[0m\u001b[0;34m\u001b[0m\u001b[0;34m\u001b[0m\u001b[0m\n",
      "\u001b[0;31mNameError\u001b[0m: name 'weather_data' is not defined"
     ]
    }
   ],
   "source": [
    "humidity_100 = weather_data.loc[weather_data[\"Humidity\"] > 100]\n",
    "humidity_100"
   ]
  },
  {
   "cell_type": "code",
   "execution_count": 17,
   "metadata": {},
   "outputs": [
    {
     "data": {
      "text/plain": [
       "Int64Index([], dtype='int64')"
      ]
     },
     "execution_count": 17,
     "metadata": {},
     "output_type": "execute_result"
    }
   ],
   "source": [
    "#  Get the indices of cities that have humidity over 100%.\n"
   ]
  },
  {
   "cell_type": "code",
   "execution_count": 19,
   "metadata": {},
   "outputs": [
    {
     "data": {
      "text/html": [
       "<div>\n",
       "<style scoped>\n",
       "    .dataframe tbody tr th:only-of-type {\n",
       "        vertical-align: middle;\n",
       "    }\n",
       "\n",
       "    .dataframe tbody tr th {\n",
       "        vertical-align: top;\n",
       "    }\n",
       "\n",
       "    .dataframe thead th {\n",
       "        text-align: right;\n",
       "    }\n",
       "</style>\n",
       "<table border=\"1\" class=\"dataframe\">\n",
       "  <thead>\n",
       "    <tr style=\"text-align: right;\">\n",
       "      <th></th>\n",
       "      <th>City</th>\n",
       "      <th>Lat</th>\n",
       "      <th>Lng</th>\n",
       "      <th>Max Temp</th>\n",
       "      <th>Humidity</th>\n",
       "      <th>Cloudiness</th>\n",
       "      <th>Wind Speed</th>\n",
       "      <th>Country</th>\n",
       "      <th>Date</th>\n",
       "    </tr>\n",
       "  </thead>\n",
       "  <tbody>\n",
       "    <tr>\n",
       "      <td>0</td>\n",
       "      <td>butaritari</td>\n",
       "      <td>3.07</td>\n",
       "      <td>172.79</td>\n",
       "      <td>83.32</td>\n",
       "      <td>74</td>\n",
       "      <td>84</td>\n",
       "      <td>10.42</td>\n",
       "      <td>KI</td>\n",
       "      <td>1593605283</td>\n",
       "    </tr>\n",
       "    <tr>\n",
       "      <td>1</td>\n",
       "      <td>yerbogachen</td>\n",
       "      <td>61.28</td>\n",
       "      <td>108.01</td>\n",
       "      <td>79.52</td>\n",
       "      <td>58</td>\n",
       "      <td>20</td>\n",
       "      <td>7.70</td>\n",
       "      <td>RU</td>\n",
       "      <td>1593605121</td>\n",
       "    </tr>\n",
       "    <tr>\n",
       "      <td>2</td>\n",
       "      <td>cape town</td>\n",
       "      <td>-33.93</td>\n",
       "      <td>18.42</td>\n",
       "      <td>73.00</td>\n",
       "      <td>77</td>\n",
       "      <td>27</td>\n",
       "      <td>4.70</td>\n",
       "      <td>ZA</td>\n",
       "      <td>1593605039</td>\n",
       "    </tr>\n",
       "    <tr>\n",
       "      <td>3</td>\n",
       "      <td>touba</td>\n",
       "      <td>8.28</td>\n",
       "      <td>-7.68</td>\n",
       "      <td>79.97</td>\n",
       "      <td>75</td>\n",
       "      <td>82</td>\n",
       "      <td>3.58</td>\n",
       "      <td>CI</td>\n",
       "      <td>1593605284</td>\n",
       "    </tr>\n",
       "    <tr>\n",
       "      <td>4</td>\n",
       "      <td>jamestown</td>\n",
       "      <td>42.10</td>\n",
       "      <td>-79.24</td>\n",
       "      <td>64.00</td>\n",
       "      <td>88</td>\n",
       "      <td>1</td>\n",
       "      <td>6.93</td>\n",
       "      <td>US</td>\n",
       "      <td>1593605284</td>\n",
       "    </tr>\n",
       "  </tbody>\n",
       "</table>\n",
       "</div>"
      ],
      "text/plain": [
       "          City    Lat     Lng  Max Temp  Humidity  Cloudiness  Wind Speed  \\\n",
       "0   butaritari   3.07  172.79     83.32        74          84       10.42   \n",
       "1  yerbogachen  61.28  108.01     79.52        58          20        7.70   \n",
       "2    cape town -33.93   18.42     73.00        77          27        4.70   \n",
       "3        touba   8.28   -7.68     79.97        75          82        3.58   \n",
       "4    jamestown  42.10  -79.24     64.00        88           1        6.93   \n",
       "\n",
       "  Country        Date  \n",
       "0      KI  1593605283  \n",
       "1      RU  1593605121  \n",
       "2      ZA  1593605039  \n",
       "3      CI  1593605284  \n",
       "4      US  1593605284  "
      ]
     },
     "execution_count": 19,
     "metadata": {},
     "output_type": "execute_result"
    }
   ],
   "source": [
    "# Make a new DataFrame equal to the city data to drop all humidity outliers by index.\n",
    "# Passing \"inplace=False\" will make a copy of the city_data DataFrame, which we call \"clean_city_data\".\n"
   ]
  },
  {
   "cell_type": "code",
   "execution_count": null,
   "metadata": {},
   "outputs": [],
   "source": [
    "\n"
   ]
  },
  {
   "cell_type": "markdown",
   "metadata": {},
   "source": [
    "## Plotting the Data\n",
    "* Use proper labeling of the plots using plot titles (including date of analysis) and axes labels.\n",
    "* Save the plotted figures as .pngs."
   ]
  },
  {
   "cell_type": "markdown",
   "metadata": {},
   "source": [
    "## Latitude vs. Temperature Plot"
   ]
  },
  {
   "cell_type": "code",
   "execution_count": 34,
   "metadata": {},
   "outputs": [
    {
     "data": {
      "text/html": [
       "<div>\n",
       "<style scoped>\n",
       "    .dataframe tbody tr th:only-of-type {\n",
       "        vertical-align: middle;\n",
       "    }\n",
       "\n",
       "    .dataframe tbody tr th {\n",
       "        vertical-align: top;\n",
       "    }\n",
       "\n",
       "    .dataframe thead th {\n",
       "        text-align: right;\n",
       "    }\n",
       "</style>\n",
       "<table border=\"1\" class=\"dataframe\">\n",
       "  <thead>\n",
       "    <tr style=\"text-align: right;\">\n",
       "      <th></th>\n",
       "      <th>City</th>\n",
       "      <th>Lat</th>\n",
       "      <th>Lng</th>\n",
       "      <th>Max_Temp</th>\n",
       "      <th>Humidity</th>\n",
       "      <th>Cloudiness</th>\n",
       "      <th>Wind_Speed</th>\n",
       "      <th>Country</th>\n",
       "      <th>Date</th>\n",
       "    </tr>\n",
       "  </thead>\n",
       "  <tbody>\n",
       "    <tr>\n",
       "      <th>0</th>\n",
       "      <td>seoul</td>\n",
       "      <td>37.5683</td>\n",
       "      <td>126.9778</td>\n",
       "      <td>81.84</td>\n",
       "      <td>57</td>\n",
       "      <td>29</td>\n",
       "      <td>1.45</td>\n",
       "      <td>KR</td>\n",
       "      <td>1627135960</td>\n",
       "    </tr>\n",
       "    <tr>\n",
       "      <th>1</th>\n",
       "      <td>nyazepetrovsk</td>\n",
       "      <td>56.0531</td>\n",
       "      <td>59.6028</td>\n",
       "      <td>66.74</td>\n",
       "      <td>65</td>\n",
       "      <td>99</td>\n",
       "      <td>2.30</td>\n",
       "      <td>RU</td>\n",
       "      <td>1627136044</td>\n",
       "    </tr>\n",
       "    <tr>\n",
       "      <th>2</th>\n",
       "      <td>tsogni</td>\n",
       "      <td>-2.7942</td>\n",
       "      <td>10.0988</td>\n",
       "      <td>76.77</td>\n",
       "      <td>64</td>\n",
       "      <td>24</td>\n",
       "      <td>10.42</td>\n",
       "      <td>GA</td>\n",
       "      <td>1627136045</td>\n",
       "    </tr>\n",
       "    <tr>\n",
       "      <th>3</th>\n",
       "      <td>esmeraldas</td>\n",
       "      <td>-19.7625</td>\n",
       "      <td>-44.3139</td>\n",
       "      <td>68.86</td>\n",
       "      <td>41</td>\n",
       "      <td>0</td>\n",
       "      <td>8.46</td>\n",
       "      <td>BR</td>\n",
       "      <td>1627136045</td>\n",
       "    </tr>\n",
       "    <tr>\n",
       "      <th>4</th>\n",
       "      <td>taoudenni</td>\n",
       "      <td>22.6783</td>\n",
       "      <td>-3.9836</td>\n",
       "      <td>113.14</td>\n",
       "      <td>6</td>\n",
       "      <td>7</td>\n",
       "      <td>10.29</td>\n",
       "      <td>ML</td>\n",
       "      <td>1627136045</td>\n",
       "    </tr>\n",
       "    <tr>\n",
       "      <th>...</th>\n",
       "      <td>...</td>\n",
       "      <td>...</td>\n",
       "      <td>...</td>\n",
       "      <td>...</td>\n",
       "      <td>...</td>\n",
       "      <td>...</td>\n",
       "      <td>...</td>\n",
       "      <td>...</td>\n",
       "      <td>...</td>\n",
       "    </tr>\n",
       "    <tr>\n",
       "      <th>533</th>\n",
       "      <td>bella union</td>\n",
       "      <td>-30.2752</td>\n",
       "      <td>-57.6007</td>\n",
       "      <td>70.52</td>\n",
       "      <td>58</td>\n",
       "      <td>69</td>\n",
       "      <td>11.74</td>\n",
       "      <td>UY</td>\n",
       "      <td>1627136198</td>\n",
       "    </tr>\n",
       "    <tr>\n",
       "      <th>534</th>\n",
       "      <td>bumba</td>\n",
       "      <td>2.1833</td>\n",
       "      <td>22.4667</td>\n",
       "      <td>86.00</td>\n",
       "      <td>49</td>\n",
       "      <td>98</td>\n",
       "      <td>3.78</td>\n",
       "      <td>CD</td>\n",
       "      <td>1627136166</td>\n",
       "    </tr>\n",
       "    <tr>\n",
       "      <th>535</th>\n",
       "      <td>necochea</td>\n",
       "      <td>-38.5473</td>\n",
       "      <td>-58.7368</td>\n",
       "      <td>51.04</td>\n",
       "      <td>57</td>\n",
       "      <td>98</td>\n",
       "      <td>15.10</td>\n",
       "      <td>AR</td>\n",
       "      <td>1627136199</td>\n",
       "    </tr>\n",
       "    <tr>\n",
       "      <th>536</th>\n",
       "      <td>uinskoye</td>\n",
       "      <td>56.8817</td>\n",
       "      <td>56.5813</td>\n",
       "      <td>62.92</td>\n",
       "      <td>82</td>\n",
       "      <td>79</td>\n",
       "      <td>5.12</td>\n",
       "      <td>RU</td>\n",
       "      <td>1627136199</td>\n",
       "    </tr>\n",
       "    <tr>\n",
       "      <th>537</th>\n",
       "      <td>chapleau</td>\n",
       "      <td>47.8405</td>\n",
       "      <td>-83.4034</td>\n",
       "      <td>68.09</td>\n",
       "      <td>94</td>\n",
       "      <td>90</td>\n",
       "      <td>10.36</td>\n",
       "      <td>CA</td>\n",
       "      <td>1627136199</td>\n",
       "    </tr>\n",
       "  </tbody>\n",
       "</table>\n",
       "<p>538 rows × 9 columns</p>\n",
       "</div>"
      ],
      "text/plain": [
       "              City      Lat       Lng  Max_Temp  Humidity  Cloudiness  \\\n",
       "0            seoul  37.5683  126.9778     81.84        57          29   \n",
       "1    nyazepetrovsk  56.0531   59.6028     66.74        65          99   \n",
       "2           tsogni  -2.7942   10.0988     76.77        64          24   \n",
       "3       esmeraldas -19.7625  -44.3139     68.86        41           0   \n",
       "4        taoudenni  22.6783   -3.9836    113.14         6           7   \n",
       "..             ...      ...       ...       ...       ...         ...   \n",
       "533    bella union -30.2752  -57.6007     70.52        58          69   \n",
       "534          bumba   2.1833   22.4667     86.00        49          98   \n",
       "535       necochea -38.5473  -58.7368     51.04        57          98   \n",
       "536       uinskoye  56.8817   56.5813     62.92        82          79   \n",
       "537       chapleau  47.8405  -83.4034     68.09        94          90   \n",
       "\n",
       "     Wind_Speed Country        Date  \n",
       "0          1.45      KR  1627135960  \n",
       "1          2.30      RU  1627136044  \n",
       "2         10.42      GA  1627136045  \n",
       "3          8.46      BR  1627136045  \n",
       "4         10.29      ML  1627136045  \n",
       "..          ...     ...         ...  \n",
       "533       11.74      UY  1627136198  \n",
       "534        3.78      CD  1627136166  \n",
       "535       15.10      AR  1627136199  \n",
       "536        5.12      RU  1627136199  \n",
       "537       10.36      CA  1627136199  \n",
       "\n",
       "[538 rows x 9 columns]"
      ]
     },
     "execution_count": 34,
     "metadata": {},
     "output_type": "execute_result"
    }
   ],
   "source": [
    "# Had to import CSV file saved above because kernel restarted and I did not want to generate new cities again.\n",
    "city_csv_path = \"Output/WeatherPy_data.csv\"\n",
    "weather_data_df = pd.read_csv(city_csv_path)\n",
    "\n",
    "weather_data = weather_data_df.drop([\"Unnamed: 0\"], axis = 1)\n",
    "weather_data"
   ]
  },
  {
   "cell_type": "code",
   "execution_count": 38,
   "metadata": {
    "scrolled": true
   },
   "outputs": [
    {
     "data": {
      "image/png": "[encoded data removed]",
      "text/plain": [
       "<Figure size 432x288 with 1 Axes>"
      ]
     },
     "metadata": {
      "needs_background": "light"
     },
     "output_type": "display_data"
    }
   ],
   "source": [
    "date = time.strftime(\"%m/%d/%Y\")\n",
    "plt.scatter(weather_data[\"Lat\"], weather_data[\"Max_Temp\"])\n",
    "plt.title(f\"City Latitude vs. Max Temperature {date}\")\n",
    "plt.xlabel(f\"Latitude\")\n",
    "plt.ylabel(f\"Max Temperature (F)\")\n",
    "plt.grid(True)\n",
    "\n",
    "plt.savefig(\"Output/lat_vs_temp.png\", dpi = 300)\n",
    "\n",
    "plt.show()"
   ]
  },
  {
   "cell_type": "markdown",
   "metadata": {},
   "source": [
    "## Latitude vs. Humidity Plot"
   ]
  },
  {
   "cell_type": "code",
   "execution_count": 39,
   "metadata": {},
   "outputs": [
    {
     "data": {
      "image/png": "[encoded data removed]",
      "text/plain": [
       "<Figure size 432x288 with 1 Axes>"
      ]
     },
     "metadata": {
      "needs_background": "light"
     },
     "output_type": "display_data"
    }
   ],
   "source": [
    "plt.scatter(weather_data[\"Lat\"], weather_data[\"Humidity\"])\n",
    "plt.title(f\"City Latitude vs. Humidity {date}\")\n",
    "plt.xlabel(f\"Latitude\")\n",
    "plt.ylabel(f\"Humidity (%)\")\n",
    "plt.grid(True)\n",
    "\n",
    "plt.savefig(\"Output/lat_vs_humid.png\", dpi = 300)\n",
    "\n",
    "plt.show()"
   ]
  },
  {
   "cell_type": "markdown",
   "metadata": {},
   "source": [
    "## Latitude vs. Cloudiness Plot"
   ]
  },
  {
   "cell_type": "code",
   "execution_count": 40,
   "metadata": {},
   "outputs": [
    {
     "data": {
      "image/png": "[encoded data removed]",
      "text/plain": [
       "<Figure size 432x288 with 1 Axes>"
      ]
     },
     "metadata": {
      "needs_background": "light"
     },
     "output_type": "display_data"
    }
   ],
   "source": [
    "plt.scatter(weather_data[\"Lat\"], weather_data[\"Cloudiness\"])\n",
    "plt.title(f\"City Latitude vs. Cloudiness {date}\")\n",
    "plt.xlabel(f\"Latitude\")\n",
    "plt.ylabel(f\"Cloudiness (%)\")\n",
    "plt.grid(True)\n",
    "\n",
    "plt.savefig(\"Output/lat_vs_cloud.png\", dpi = 300)\n",
    "\n",
    "plt.show()"
   ]
  },
  {
   "cell_type": "markdown",
   "metadata": {},
   "source": [
    "## Latitude vs. Wind Speed Plot"
   ]
  },
  {
   "cell_type": "code",
   "execution_count": 13,
   "metadata": {},
   "outputs": [
    {
     "data": {
      "image/png": "[encoded data removed]",
      "text/plain": [
       "<Figure size 432x288 with 1 Axes>"
      ]
     },
     "metadata": {
      "needs_background": "light"
     },
     "output_type": "display_data"
    }
   ],
   "source": []
  },
  {
   "cell_type": "markdown",
   "metadata": {},
   "source": [
    "## Linear Regression"
   ]
  },
  {
   "cell_type": "code",
   "execution_count": 24,
   "metadata": {},
   "outputs": [],
   "source": []
  },
  {
   "cell_type": "markdown",
   "metadata": {},
   "source": [
    "####  Northern Hemisphere - Max Temp vs. Latitude Linear Regression"
   ]
  },
  {
   "cell_type": "code",
   "execution_count": 25,
   "metadata": {},
   "outputs": [
    {
     "name": "stdout",
     "output_type": "stream",
     "text": [
      "The r-value is: 0.46937863826630627\n"
     ]
    },
    {
     "data": {
      "image/png": "[encoded data removed]",
      "text/plain": [
       "<Figure size 432x288 with 1 Axes>"
      ]
     },
     "metadata": {
      "needs_background": "light"
     },
     "output_type": "display_data"
    }
   ],
   "source": []
  },
  {
   "cell_type": "markdown",
   "metadata": {},
   "source": [
    "####  Southern Hemisphere - Max Temp vs. Latitude Linear Regression"
   ]
  },
  {
   "cell_type": "code",
   "execution_count": 26,
   "metadata": {},
   "outputs": [
    {
     "name": "stdout",
     "output_type": "stream",
     "text": [
      "The r-value is: 0.6082708688906918\n"
     ]
    },
    {
     "data": {
      "image/png": "[encoded data removed]",
      "text/plain": [
       "<Figure size 432x288 with 1 Axes>"
      ]
     },
     "metadata": {
      "needs_background": "light"
     },
     "output_type": "display_data"
    }
   ],
   "source": []
  },
  {
   "cell_type": "markdown",
   "metadata": {},
   "source": [
    "####  Northern Hemisphere - Humidity (%) vs. Latitude Linear Regression"
   ]
  },
  {
   "cell_type": "code",
   "execution_count": 27,
   "metadata": {},
   "outputs": [
    {
     "name": "stdout",
     "output_type": "stream",
     "text": [
      "The r-value is: 0.000543987878808455\n"
     ]
    },
    {
     "data": {
      "image/png": "[encoded data removed]",
      "text/plain": [
       "<Figure size 432x288 with 1 Axes>"
      ]
     },
     "metadata": {
      "needs_background": "light"
     },
     "output_type": "display_data"
    }
   ],
   "source": []
  },
  {
   "cell_type": "markdown",
   "metadata": {},
   "source": [
    "####  Southern Hemisphere - Humidity (%) vs. Latitude Linear Regression"
   ]
  },
  {
   "cell_type": "code",
   "execution_count": 28,
   "metadata": {},
   "outputs": [
    {
     "name": "stdout",
     "output_type": "stream",
     "text": [
      "The r-value is: 0.014985174297345524\n"
     ]
    },
    {
     "data": {
      "image/png": "[encoded data removed]",
      "text/plain": [
       "<Figure size 432x288 with 1 Axes>"
      ]
     },
     "metadata": {
      "needs_background": "light"
     },
     "output_type": "display_data"
    }
   ],
   "source": []
  },
  {
   "cell_type": "markdown",
   "metadata": {},
   "source": [
    "####  Northern Hemisphere - Cloudiness (%) vs. Latitude Linear Regression"
   ]
  },
  {
   "cell_type": "code",
   "execution_count": 29,
   "metadata": {},
   "outputs": [
    {
     "name": "stdout",
     "output_type": "stream",
     "text": [
      "The r-value is: 0.0020898727664228514\n"
     ]
    },
    {
     "data": {
      "image/png": "[encoded data removed]",
      "text/plain": [
       "<Figure size 432x288 with 1 Axes>"
      ]
     },
     "metadata": {
      "needs_background": "light"
     },
     "output_type": "display_data"
    }
   ],
   "source": []
  },
  {
   "cell_type": "markdown",
   "metadata": {},
   "source": [
    "####  Southern Hemisphere - Cloudiness (%) vs. Latitude Linear Regression"
   ]
  },
  {
   "cell_type": "code",
   "execution_count": 30,
   "metadata": {},
   "outputs": [
    {
     "name": "stdout",
     "output_type": "stream",
     "text": [
      "The r-value is: 0.0035263772085582894\n"
     ]
    },
    {
     "data": {
      "image/png": "[encoded data removed]",
      "text/plain": [
       "<Figure size 432x288 with 1 Axes>"
      ]
     },
     "metadata": {
      "needs_background": "light"
     },
     "output_type": "display_data"
    }
   ],
   "source": []
  },
  {
   "cell_type": "markdown",
   "metadata": {},
   "source": [
    "####  Northern Hemisphere - Wind Speed (mph) vs. Latitude Linear Regression"
   ]
  },
  {
   "cell_type": "code",
   "execution_count": 31,
   "metadata": {},
   "outputs": [
    {
     "name": "stdout",
     "output_type": "stream",
     "text": [
      "The r-value is: 0.04019723576144484\n"
     ]
    },
    {
     "data": {
      "image/png": "[encoded data removed]",
      "text/plain": [
       "<Figure size 432x288 with 1 Axes>"
      ]
     },
     "metadata": {
      "needs_background": "light"
     },
     "output_type": "display_data"
    }
   ],
   "source": []
  },
  {
   "cell_type": "markdown",
   "metadata": {},
   "source": [
    "####  Southern Hemisphere - Wind Speed (mph) vs. Latitude Linear Regression"
   ]
  },
  {
   "cell_type": "code",
   "execution_count": 32,
   "metadata": {},
   "outputs": [
    {
     "name": "stdout",
     "output_type": "stream",
     "text": [
      "The r-value is: 0.017128274759839232\n"
     ]
    },
    {
     "data": {
      "image/png": "[encoded data removed]",
      "text/plain": [
       "<Figure size 432x288 with 1 Axes>"
      ]
     },
     "metadata": {
      "needs_background": "light"
     },
     "output_type": "display_data"
    }
   ],
   "source": []
  },
  {
   "cell_type": "code",
   "execution_count": null,
   "metadata": {},
   "outputs": [],
   "source": []
  }
 ],
 "metadata": {
  "anaconda-cloud": {},
  "kernel_info": {
   "name": "python3"
  },
  "kernelspec": {
   "display_name": "Python 3",
   "language": "python",
   "name": "python3"
  },
  "language_info": {
   "codemirror_mode": {
    "name": "ipython",
    "version": 3
   },
   "file_extension": ".py",
   "mimetype": "text/x-python",
   "name": "python",
   "nbconvert_exporter": "python",
   "pygments_lexer": "ipython3",
   "version": "3.8.10"
  },
  "latex_envs": {
   "LaTeX_envs_menu_present": true,
   "autoclose": false,
   "autocomplete": true,
   "bibliofile": "biblio.bib",
   "cite_by": "apalike",
   "current_citInitial": 1,
   "eqLabelWithNumbers": true,
   "eqNumInitial": 1,
   "hotkeys": {
    "equation": "Ctrl-E",
    "itemize": "Ctrl-I"
   },
   "labels_anchors": false,
   "latex_user_defs": false,
   "report_style_numbering": false,
   "user_envs_cfg": false
  },
  "nteract": {
   "version": "0.12.3"
  }
 },
 "nbformat": 4,
 "nbformat_minor": 2
}
